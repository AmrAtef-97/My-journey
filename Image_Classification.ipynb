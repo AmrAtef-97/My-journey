{
  "cells": [
    {
      "cell_type": "markdown",
      "metadata": {
        "id": "view-in-github",
        "colab_type": "text"
      },
      "source": [
        "<a href=\"https://colab.research.google.com/github/AmrAtef-97/My-journey/blob/main/Image_Classification.ipynb\" target=\"_parent\"><img src=\"https://colab.research.google.com/assets/colab-badge.svg\" alt=\"Open In Colab\"/></a>"
      ]
    },
    {
      "cell_type": "code",
      "execution_count": null,
      "id": "fa911d96",
      "metadata": {
        "ExecuteTime": {
          "end_time": "2022-02-19T14:50:35.400202Z",
          "start_time": "2022-02-19T14:50:05.279632Z"
        },
        "id": "fa911d96"
      },
      "outputs": [],
      "source": [
        "import tensorflow as tf\n",
        "import pandas as pd\n",
        "import numpy as np \n",
        "import matplotlib.pyplot as plt"
      ]
    },
    {
      "cell_type": "markdown",
      "id": "3d7ada5a",
      "metadata": {
        "deletable": false,
        "editable": false,
        "run_control": {
          "frozen": true
        },
        "id": "3d7ada5a"
      },
      "source": [
        "# Data Decompression"
      ]
    },
    {
      "cell_type": "code",
      "execution_count": null,
      "id": "8bdcb4ff",
      "metadata": {
        "ExecuteTime": {
          "end_time": "2022-02-19T14:50:41.455493Z",
          "start_time": "2022-02-19T14:50:35.401860Z"
        },
        "id": "8bdcb4ff"
      },
      "outputs": [],
      "source": [
        "import pickle\n",
        "\n",
        "with open('Datasets DSP-2 Image Recognition Project/train_dsp_images.pkl', 'rb') as f:\n",
        "      train_images= pickle.load(f)\n",
        "with open('Datasets DSP-2 Image Recognition Project/train_dsp_labels.pkl', 'rb') as f:\n",
        "      train_labels= pickle.load(f)\n",
        "with open('Datasets DSP-2 Image Recognition Project/test_dsp_images.pkl', 'rb') as f:\n",
        "      test_images= pickle.load(f)\n",
        "with open('Datasets DSP-2 Image Recognition Project/test_dsp_labels.pkl', 'rb') as f:\n",
        "      test_labels= pickle.load(f)\n",
        "with open('Datasets DSP-2 Image Recognition Project/val_dsp_images.pkl', 'rb') as f:\n",
        "      val_images= pickle.load(f)\n",
        "with open('Datasets DSP-2 Image Recognition Project/val_dsp_labels.pkl', 'rb') as f:\n",
        "      val_labels= pickle.load(f)    \n",
        "\n",
        "train_labels=np.array(train_labels)\n",
        "test_labels=np.array(test_labels)\n",
        "val_labels=np.array(val_labels)\n",
        "\n",
        "\n",
        "print(train_images.shape)\n",
        "print(np.array(train_labels).shape)\n",
        "print(test_images.shape)\n",
        "print(np.array(test_labels).shape)\n",
        "print(val_images.shape)\n",
        "print(np.array(val_labels).shape)"
      ]
    },
    {
      "cell_type": "markdown",
      "id": "c1b741dc",
      "metadata": {
        "deletable": false,
        "editable": false,
        "run_control": {
          "frozen": true
        },
        "id": "c1b741dc"
      },
      "source": [
        "# Imports"
      ]
    },
    {
      "cell_type": "markdown",
      "id": "32f3699c",
      "metadata": {
        "deletable": false,
        "editable": false,
        "run_control": {
          "frozen": true
        },
        "id": "32f3699c"
      },
      "source": [
        "# Data Preparations"
      ]
    },
    {
      "cell_type": "code",
      "execution_count": null,
      "id": "acd436df",
      "metadata": {
        "ExecuteTime": {
          "end_time": "2022-02-19T14:50:41.459966Z",
          "start_time": "2022-02-19T14:50:41.457077Z"
        },
        "id": "acd436df"
      },
      "outputs": [],
      "source": [
        "import tensorflow as tf\n",
        "import pandas as pd\n",
        "import numpy as np \n",
        "import matplotlib.pyplot as plt"
      ]
    },
    {
      "cell_type": "code",
      "execution_count": null,
      "id": "1f2c0de2",
      "metadata": {
        "ExecuteTime": {
          "end_time": "2022-02-19T14:50:41.535470Z",
          "start_time": "2022-02-19T14:50:41.461782Z"
        },
        "id": "1f2c0de2"
      },
      "outputs": [],
      "source": [
        "classes_names = np.unique(train_labels)"
      ]
    },
    {
      "cell_type": "code",
      "execution_count": null,
      "id": "4acd8a51",
      "metadata": {
        "ExecuteTime": {
          "end_time": "2022-02-19T14:50:41.839903Z",
          "start_time": "2022-02-19T14:50:41.537582Z"
        },
        "scrolled": false,
        "id": "4acd8a51"
      },
      "outputs": [],
      "source": [
        "labels_OHE = pd.get_dummies(train_labels, classes_names[0])\n",
        "temp = []\n",
        "for i, elem in enumerate(labels_OHE.index):\n",
        "    if i == 0:\n",
        "        temp.append(np.array(labels_OHE.iloc[elem]))\n",
        "    else:\n",
        "#         labels_np = np.vstack((labels_np,labels_OHE[elem]))\n",
        "        temp.append(np.array(labels_OHE.iloc[elem]))\n",
        "train_labels_np = np.array(temp)"
      ]
    },
    {
      "cell_type": "code",
      "execution_count": null,
      "id": "98f61194",
      "metadata": {
        "ExecuteTime": {
          "end_time": "2022-02-19T14:50:41.879009Z",
          "start_time": "2022-02-19T14:50:41.841271Z"
        },
        "id": "98f61194"
      },
      "outputs": [],
      "source": [
        "labels_OHE = pd.get_dummies(val_labels, classes_names[0])\n",
        "temp = []\n",
        "for i, elem in enumerate(labels_OHE.index):\n",
        "    if i == 0:\n",
        "        temp.append(np.array(labels_OHE.iloc[elem]))\n",
        "    else:\n",
        "#         labels_np = np.vstack((labels_np,labels_OHE[elem]))\n",
        "        temp.append(np.array(labels_OHE.iloc[elem]))\n",
        "val_labels_np = np.array(temp)"
      ]
    },
    {
      "cell_type": "code",
      "execution_count": null,
      "id": "84139001",
      "metadata": {
        "ExecuteTime": {
          "end_time": "2022-02-19T14:50:43.173168Z",
          "start_time": "2022-02-19T14:50:41.880320Z"
        },
        "id": "84139001"
      },
      "outputs": [],
      "source": [
        "train_images = train_images / 255.\n",
        "val_images = val_images / 255.\n",
        "test_images = test_images / 255."
      ]
    },
    {
      "cell_type": "markdown",
      "id": "55dd38d1",
      "metadata": {
        "deletable": false,
        "editable": false,
        "run_control": {
          "frozen": true
        },
        "id": "55dd38d1"
      },
      "source": [
        "# Model"
      ]
    },
    {
      "cell_type": "code",
      "execution_count": null,
      "id": "acfbd915",
      "metadata": {
        "ExecuteTime": {
          "end_time": "2022-02-19T14:50:49.334456Z",
          "start_time": "2022-02-19T14:50:43.174530Z"
        },
        "scrolled": true,
        "id": "acfbd915"
      },
      "outputs": [],
      "source": [
        "model = tf.keras.applications.ResNet101(\n",
        "    include_top=False,\n",
        "    weights='imagenet',\n",
        "    input_tensor=None,\n",
        "    input_shape=(300, 200, 3),\n",
        "    pooling=None,\n",
        "    classes=len(classes_names)\n",
        ")"
      ]
    },
    {
      "cell_type": "code",
      "execution_count": null,
      "id": "30a73acb",
      "metadata": {
        "ExecuteTime": {
          "end_time": "2022-02-19T14:50:49.347895Z",
          "start_time": "2022-02-19T14:50:49.335832Z"
        },
        "id": "30a73acb"
      },
      "outputs": [],
      "source": [
        "for layer in model.layers:\n",
        "    layer.trainable = False"
      ]
    },
    {
      "cell_type": "code",
      "execution_count": null,
      "id": "2c362879",
      "metadata": {
        "ExecuteTime": {
          "end_time": "2022-02-19T14:50:49.429873Z",
          "start_time": "2022-02-19T14:50:49.350278Z"
        },
        "id": "2c362879"
      },
      "outputs": [],
      "source": [
        "from tensorflow.keras.models import Model\n",
        "from tensorflow.keras.layers import Dense, Flatten\n",
        "last_layer = model.output\n",
        "x = Flatten()(last_layer)\n",
        "# x = Dense(512, activation='relu')(x)\n",
        "# x = Dense(256, activation='relu')(x)\n",
        "# x = Dense(128, activation='relu')(x)\n",
        "output_layer = Dense(10, activation='softmax')(x)"
      ]
    },
    {
      "cell_type": "code",
      "execution_count": null,
      "id": "eb72856e",
      "metadata": {
        "ExecuteTime": {
          "end_time": "2022-02-19T14:50:49.659094Z",
          "start_time": "2022-02-19T14:50:49.431093Z"
        },
        "scrolled": false,
        "id": "eb72856e"
      },
      "outputs": [],
      "source": [
        "model_final = Model(inputs=model.input, outputs=output_layer)\n",
        "model_final.summary()"
      ]
    },
    {
      "cell_type": "code",
      "execution_count": null,
      "id": "2f33a96f",
      "metadata": {
        "ExecuteTime": {
          "end_time": "2022-02-19T14:50:49.676879Z",
          "start_time": "2022-02-19T14:50:49.661654Z"
        },
        "id": "2f33a96f"
      },
      "outputs": [],
      "source": [
        "opt = tf.keras.optimizers.Adam()\n",
        "loss1 = tf.keras.losses.CategoricalCrossentropy()\n",
        "metric = ['accuracy']\n",
        "model_final.compile(optimizer=opt,\n",
        "             loss=loss1,\n",
        "             metrics=metric)"
      ]
    },
    {
      "cell_type": "code",
      "execution_count": null,
      "id": "6d1b5f4d",
      "metadata": {
        "ExecuteTime": {
          "end_time": "2022-02-19T14:51:49.227170Z",
          "start_time": "2022-02-19T14:50:49.679136Z"
        },
        "scrolled": true,
        "id": "6d1b5f4d"
      },
      "outputs": [],
      "source": [
        "model_final.fit(train_images, train_labels_np, batch_size=32, \n",
        "          epochs=100, validation_data=(val_images,val_labels_np),\n",
        "         )"
      ]
    },
    {
      "cell_type": "code",
      "execution_count": null,
      "id": "bd796274",
      "metadata": {
        "id": "bd796274"
      },
      "outputs": [],
      "source": [
        ""
      ]
    }
  ],
  "metadata": {
    "kernelspec": {
      "display_name": "Python 3 (ipykernel)",
      "language": "python",
      "name": "python3"
    },
    "language_info": {
      "codemirror_mode": {
        "name": "ipython",
        "version": 3
      },
      "file_extension": ".py",
      "mimetype": "text/x-python",
      "name": "python",
      "nbconvert_exporter": "python",
      "pygments_lexer": "ipython3",
      "version": "3.9.7"
    },
    "toc": {
      "base_numbering": 1,
      "nav_menu": {},
      "number_sections": true,
      "sideBar": true,
      "skip_h1_title": false,
      "title_cell": "Table of Contents",
      "title_sidebar": "Contents",
      "toc_cell": false,
      "toc_position": {},
      "toc_section_display": true,
      "toc_window_display": false
    },
    "varInspector": {
      "cols": {
        "lenName": 16,
        "lenType": 16,
        "lenVar": 40
      },
      "kernels_config": {
        "python": {
          "delete_cmd_postfix": "",
          "delete_cmd_prefix": "del ",
          "library": "var_list.py",
          "varRefreshCmd": "print(var_dic_list())"
        },
        "r": {
          "delete_cmd_postfix": ") ",
          "delete_cmd_prefix": "rm(",
          "library": "var_list.r",
          "varRefreshCmd": "cat(var_dic_list()) "
        }
      },
      "types_to_exclude": [
        "module",
        "function",
        "builtin_function_or_method",
        "instance",
        "_Feature"
      ],
      "window_display": false
    },
    "colab": {
      "name": "Image Classification.ipynb",
      "provenance": [],
      "include_colab_link": true
    }
  },
  "nbformat": 4,
  "nbformat_minor": 5
}