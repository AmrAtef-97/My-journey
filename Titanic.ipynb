{
 "cells": [
  {
   "cell_type": "markdown",
   "id": "c0ab39be",
   "metadata": {
    "deletable": false,
    "editable": false,
    "run_control": {
     "frozen": true
    }
   },
   "source": [
    "# Initialization Cells"
   ]
  },
  {
   "cell_type": "code",
   "execution_count": 1,
   "id": "a8aa9a06",
   "metadata": {
    "ExecuteTime": {
     "end_time": "2021-12-25T10:14:15.368969Z",
     "start_time": "2021-12-25T10:14:15.362497Z"
    },
    "init_cell": true
   },
   "outputs": [],
   "source": [
    "# !pip install cupy-cuda115\n",
    "# !pip install seaborn"
   ]
  },
  {
   "cell_type": "code",
   "execution_count": 2,
   "id": "a1f856c6",
   "metadata": {
    "ExecuteTime": {
     "end_time": "2021-12-25T10:14:16.746241Z",
     "start_time": "2021-12-25T10:14:15.370591Z"
    },
    "init_cell": true,
    "scrolled": true
   },
   "outputs": [],
   "source": [
    "import pandas as pd\n",
    "import cupy as cp\n",
    "import numpy as np\n",
    "import seaborn as sb\n",
    "import matplotlib.pyplot as plt \n",
    "cp = cp.asnumpy\n",
    "array = np.array"
   ]
  },
  {
   "cell_type": "code",
   "execution_count": 3,
   "id": "3bfe4e57",
   "metadata": {
    "ExecuteTime": {
     "end_time": "2021-12-25T10:14:16.760551Z",
     "start_time": "2021-12-25T10:14:16.747557Z"
    },
    "init_cell": true
   },
   "outputs": [],
   "source": [
    "train = pd.read_csv('train.csv')\n",
    "test = pd.read_csv('test.csv')\n",
    "Actual = pd.read_csv('submission.csv')"
   ]
  },
  {
   "cell_type": "code",
   "execution_count": 4,
   "id": "4c472fd6",
   "metadata": {
    "ExecuteTime": {
     "end_time": "2021-12-25T10:14:16.807544Z",
     "start_time": "2021-12-25T10:14:16.762139Z"
    },
    "init_cell": true
   },
   "outputs": [],
   "source": [
    "Actual_np = cp(array(Actual.drop(['PassengerId'], axis=1)))"
   ]
  },
  {
   "cell_type": "code",
   "execution_count": 5,
   "id": "5d4f429b",
   "metadata": {
    "ExecuteTime": {
     "end_time": "2021-12-25T10:14:16.870798Z",
     "start_time": "2021-12-25T10:14:16.809571Z"
    },
    "init_cell": true
   },
   "outputs": [],
   "source": [
    "train.drop(['Cabin', 'Name', 'Ticket', 'PassengerId'], axis=1, inplace=True)\n",
    "test.drop(['Cabin', 'Name', 'Ticket', 'PassengerId'], axis=1, inplace=True)"
   ]
  },
  {
   "cell_type": "code",
   "execution_count": 6,
   "id": "e097d88e",
   "metadata": {
    "ExecuteTime": {
     "end_time": "2021-12-25T10:14:16.929911Z",
     "start_time": "2021-12-25T10:14:16.874420Z"
    },
    "init_cell": true
   },
   "outputs": [],
   "source": [
    "train['TravelAlone'] = train['Parch'] + train['SibSp'] > 1\n",
    "tt = array(train['TravelAlone'])\n",
    "train['TravelAlone'] = cp(np.where( tt == False, 0, 1))\n"
   ]
  },
  {
   "cell_type": "code",
   "execution_count": 7,
   "id": "6831912e",
   "metadata": {
    "ExecuteTime": {
     "end_time": "2021-12-25T10:14:16.996314Z",
     "start_time": "2021-12-25T10:14:16.934673Z"
    },
    "init_cell": true
   },
   "outputs": [],
   "source": [
    "test['TravelAlone'] = test['Parch'] + test['SibSp'] > 1\n",
    "test['TravelAlone'] = cp(np.where(test['TravelAlone'] == 0, 0, 1))"
   ]
  },
  {
   "cell_type": "code",
   "execution_count": 8,
   "id": "38605793",
   "metadata": {
    "ExecuteTime": {
     "end_time": "2021-12-25T10:14:17.131503Z",
     "start_time": "2021-12-25T10:14:17.000075Z"
    },
    "init_cell": true
   },
   "outputs": [],
   "source": [
    "from sklearn.preprocessing import LabelBinarizer\n",
    "labelbin = LabelBinarizer()\n",
    "train['Embarked'] = labelbin.fit_transform(train['Embarked'].astype(str))\n",
    "train['Sex'] = labelbin.fit_transform(train['Sex'].astype(str))\n",
    "test['Embarked'] = labelbin.fit_transform(test['Embarked'].astype(str))\n",
    "test['Sex'] = labelbin.fit_transform(test['Sex'].astype(str))"
   ]
  },
  {
   "cell_type": "code",
   "execution_count": 9,
   "id": "e03f5320",
   "metadata": {
    "ExecuteTime": {
     "end_time": "2021-12-25T10:14:17.143395Z",
     "start_time": "2021-12-25T10:14:17.132875Z"
    },
    "init_cell": true
   },
   "outputs": [
    {
     "data": {
      "text/html": [
       "<div>\n",
       "<style scoped>\n",
       "    .dataframe tbody tr th:only-of-type {\n",
       "        vertical-align: middle;\n",
       "    }\n",
       "\n",
       "    .dataframe tbody tr th {\n",
       "        vertical-align: top;\n",
       "    }\n",
       "\n",
       "    .dataframe thead th {\n",
       "        text-align: right;\n",
       "    }\n",
       "</style>\n",
       "<table border=\"1\" class=\"dataframe\">\n",
       "  <thead>\n",
       "    <tr style=\"text-align: right;\">\n",
       "      <th></th>\n",
       "      <th>Survived</th>\n",
       "      <th>Pclass</th>\n",
       "      <th>Sex</th>\n",
       "      <th>Age</th>\n",
       "      <th>SibSp</th>\n",
       "      <th>Parch</th>\n",
       "      <th>Fare</th>\n",
       "      <th>Embarked</th>\n",
       "      <th>TravelAlone</th>\n",
       "    </tr>\n",
       "  </thead>\n",
       "  <tbody>\n",
       "    <tr>\n",
       "      <th>0</th>\n",
       "      <td>0</td>\n",
       "      <td>3</td>\n",
       "      <td>1</td>\n",
       "      <td>22.0</td>\n",
       "      <td>1</td>\n",
       "      <td>0</td>\n",
       "      <td>7.2500</td>\n",
       "      <td>0</td>\n",
       "      <td>0</td>\n",
       "    </tr>\n",
       "    <tr>\n",
       "      <th>1</th>\n",
       "      <td>1</td>\n",
       "      <td>1</td>\n",
       "      <td>0</td>\n",
       "      <td>38.0</td>\n",
       "      <td>1</td>\n",
       "      <td>0</td>\n",
       "      <td>71.2833</td>\n",
       "      <td>1</td>\n",
       "      <td>0</td>\n",
       "    </tr>\n",
       "    <tr>\n",
       "      <th>2</th>\n",
       "      <td>1</td>\n",
       "      <td>3</td>\n",
       "      <td>0</td>\n",
       "      <td>26.0</td>\n",
       "      <td>0</td>\n",
       "      <td>0</td>\n",
       "      <td>7.9250</td>\n",
       "      <td>0</td>\n",
       "      <td>0</td>\n",
       "    </tr>\n",
       "    <tr>\n",
       "      <th>3</th>\n",
       "      <td>1</td>\n",
       "      <td>1</td>\n",
       "      <td>0</td>\n",
       "      <td>35.0</td>\n",
       "      <td>1</td>\n",
       "      <td>0</td>\n",
       "      <td>53.1000</td>\n",
       "      <td>0</td>\n",
       "      <td>0</td>\n",
       "    </tr>\n",
       "    <tr>\n",
       "      <th>4</th>\n",
       "      <td>0</td>\n",
       "      <td>3</td>\n",
       "      <td>1</td>\n",
       "      <td>35.0</td>\n",
       "      <td>0</td>\n",
       "      <td>0</td>\n",
       "      <td>8.0500</td>\n",
       "      <td>0</td>\n",
       "      <td>0</td>\n",
       "    </tr>\n",
       "  </tbody>\n",
       "</table>\n",
       "</div>"
      ],
      "text/plain": [
       "   Survived  Pclass  Sex   Age  SibSp  Parch     Fare  Embarked  TravelAlone\n",
       "0         0       3    1  22.0      1      0   7.2500         0            0\n",
       "1         1       1    0  38.0      1      0  71.2833         1            0\n",
       "2         1       3    0  26.0      0      0   7.9250         0            0\n",
       "3         1       1    0  35.0      1      0  53.1000         0            0\n",
       "4         0       3    1  35.0      0      0   8.0500         0            0"
      ]
     },
     "execution_count": 9,
     "metadata": {},
     "output_type": "execute_result"
    }
   ],
   "source": [
    "train.head()"
   ]
  },
  {
   "cell_type": "code",
   "execution_count": 10,
   "id": "e86ce2f4",
   "metadata": {
    "ExecuteTime": {
     "end_time": "2021-12-25T10:14:17.190881Z",
     "start_time": "2021-12-25T10:14:17.145549Z"
    },
    "init_cell": true
   },
   "outputs": [],
   "source": [
    "Survived = cp(array(train['Survived'].copy()))\n",
    "train_x = train.drop(['Survived'], axis=1)"
   ]
  },
  {
   "cell_type": "code",
   "execution_count": 11,
   "id": "c42d5a0a",
   "metadata": {
    "ExecuteTime": {
     "end_time": "2021-12-25T10:14:17.253590Z",
     "start_time": "2021-12-25T10:14:17.192219Z"
    },
    "init_cell": true
   },
   "outputs": [
    {
     "data": {
      "text/plain": [
       "(891,)"
      ]
     },
     "execution_count": 11,
     "metadata": {},
     "output_type": "execute_result"
    }
   ],
   "source": [
    "Survived.shape"
   ]
  },
  {
   "cell_type": "code",
   "execution_count": 12,
   "id": "eeafc9e9",
   "metadata": {
    "ExecuteTime": {
     "end_time": "2021-12-25T10:14:17.334949Z",
     "start_time": "2021-12-25T10:14:17.257663Z"
    },
    "init_cell": true,
    "scrolled": false
   },
   "outputs": [
    {
     "data": {
      "text/html": [
       "<div>\n",
       "<style scoped>\n",
       "    .dataframe tbody tr th:only-of-type {\n",
       "        vertical-align: middle;\n",
       "    }\n",
       "\n",
       "    .dataframe tbody tr th {\n",
       "        vertical-align: top;\n",
       "    }\n",
       "\n",
       "    .dataframe thead th {\n",
       "        text-align: right;\n",
       "    }\n",
       "</style>\n",
       "<table border=\"1\" class=\"dataframe\">\n",
       "  <thead>\n",
       "    <tr style=\"text-align: right;\">\n",
       "      <th></th>\n",
       "      <th>Pclass</th>\n",
       "      <th>Sex</th>\n",
       "      <th>Age</th>\n",
       "      <th>SibSp</th>\n",
       "      <th>Parch</th>\n",
       "      <th>Fare</th>\n",
       "      <th>Embarked</th>\n",
       "      <th>TravelAlone</th>\n",
       "    </tr>\n",
       "  </thead>\n",
       "  <tbody>\n",
       "    <tr>\n",
       "      <th>0</th>\n",
       "      <td>3</td>\n",
       "      <td>1</td>\n",
       "      <td>34.5</td>\n",
       "      <td>0</td>\n",
       "      <td>0</td>\n",
       "      <td>7.8292</td>\n",
       "      <td>0</td>\n",
       "      <td>0</td>\n",
       "    </tr>\n",
       "    <tr>\n",
       "      <th>1</th>\n",
       "      <td>3</td>\n",
       "      <td>0</td>\n",
       "      <td>47.0</td>\n",
       "      <td>1</td>\n",
       "      <td>0</td>\n",
       "      <td>7.0000</td>\n",
       "      <td>0</td>\n",
       "      <td>0</td>\n",
       "    </tr>\n",
       "    <tr>\n",
       "      <th>2</th>\n",
       "      <td>2</td>\n",
       "      <td>1</td>\n",
       "      <td>62.0</td>\n",
       "      <td>0</td>\n",
       "      <td>0</td>\n",
       "      <td>9.6875</td>\n",
       "      <td>0</td>\n",
       "      <td>0</td>\n",
       "    </tr>\n",
       "    <tr>\n",
       "      <th>3</th>\n",
       "      <td>3</td>\n",
       "      <td>1</td>\n",
       "      <td>27.0</td>\n",
       "      <td>0</td>\n",
       "      <td>0</td>\n",
       "      <td>8.6625</td>\n",
       "      <td>0</td>\n",
       "      <td>0</td>\n",
       "    </tr>\n",
       "    <tr>\n",
       "      <th>4</th>\n",
       "      <td>3</td>\n",
       "      <td>0</td>\n",
       "      <td>22.0</td>\n",
       "      <td>1</td>\n",
       "      <td>1</td>\n",
       "      <td>12.2875</td>\n",
       "      <td>0</td>\n",
       "      <td>1</td>\n",
       "    </tr>\n",
       "  </tbody>\n",
       "</table>\n",
       "</div>"
      ],
      "text/plain": [
       "   Pclass  Sex   Age  SibSp  Parch     Fare  Embarked  TravelAlone\n",
       "0       3    1  34.5      0      0   7.8292         0            0\n",
       "1       3    0  47.0      1      0   7.0000         0            0\n",
       "2       2    1  62.0      0      0   9.6875         0            0\n",
       "3       3    1  27.0      0      0   8.6625         0            0\n",
       "4       3    0  22.0      1      1  12.2875         0            1"
      ]
     },
     "execution_count": 12,
     "metadata": {},
     "output_type": "execute_result"
    }
   ],
   "source": [
    "test.head()"
   ]
  },
  {
   "cell_type": "code",
   "execution_count": 13,
   "id": "efc2448e",
   "metadata": {
    "ExecuteTime": {
     "end_time": "2021-12-25T10:14:18.028288Z",
     "start_time": "2021-12-25T10:14:17.337803Z"
    },
    "init_cell": true,
    "scrolled": true
   },
   "outputs": [],
   "source": [
    "from sklearn.preprocessing import StandardScaler\n",
    "from sklearn.impute import SimpleImputer\n",
    "from sklearn.pipeline import Pipeline\n",
    "pipeline = Pipeline([\n",
    "        ('imputer', SimpleImputer()),\n",
    "#         ('std_scaler', StandardScaler()),\n",
    "])\n",
    "Data_train = pipeline.fit_transform(train_x)\n",
    "Data_test = pipeline.fit_transform(test)"
   ]
  },
  {
   "cell_type": "code",
   "execution_count": 14,
   "id": "d94d7358",
   "metadata": {
    "ExecuteTime": {
     "end_time": "2021-12-25T10:14:18.036389Z",
     "start_time": "2021-12-25T10:14:18.029517Z"
    },
    "init_cell": true
   },
   "outputs": [],
   "source": [
    "train_Pd = pd.DataFrame(Data_train, columns=train_x.columns)"
   ]
  },
  {
   "cell_type": "code",
   "execution_count": 15,
   "id": "da3c99e3",
   "metadata": {
    "ExecuteTime": {
     "end_time": "2021-12-25T10:14:18.175561Z",
     "start_time": "2021-12-25T10:14:18.037635Z"
    },
    "init_cell": true,
    "scrolled": false
   },
   "outputs": [],
   "source": [
    "X_train = cp(array(train_Pd))\n",
    "y_train = Survived\n",
    "X_test = cp(Data_test)"
   ]
  },
  {
   "cell_type": "markdown",
   "id": "d66d5ebd",
   "metadata": {
    "deletable": false,
    "editable": false,
    "heading_collapsed": true,
    "run_control": {
     "frozen": true
    }
   },
   "source": [
    "# LogisticRegression"
   ]
  },
  {
   "cell_type": "code",
   "execution_count": 16,
   "id": "022eb0c5",
   "metadata": {
    "ExecuteTime": {
     "end_time": "2021-12-24T15:53:05.710415Z",
     "start_time": "2021-12-24T15:53:05.568443Z"
    },
    "hidden": true,
    "scrolled": false
   },
   "outputs": [],
   "source": [
    "from sklearn.linear_model import LogisticRegression\n",
    "model = LogisticRegression(max_iter=1000)\n",
    "model.fit(X_train, y_train)\n",
    "y_model = model.predict(X_test)"
   ]
  },
  {
   "cell_type": "markdown",
   "id": "6183ee06",
   "metadata": {
    "deletable": false,
    "editable": false,
    "heading_collapsed": true,
    "run_control": {
     "frozen": true
    }
   },
   "source": [
    "# SVM"
   ]
  },
  {
   "cell_type": "code",
   "execution_count": 17,
   "id": "b2ee262a",
   "metadata": {
    "ExecuteTime": {
     "end_time": "2021-12-24T15:53:05.730289Z",
     "start_time": "2021-12-24T15:53:05.713950Z"
    },
    "hidden": true
   },
   "outputs": [],
   "source": [
    "from sklearn.svm import LinearSVC"
   ]
  },
  {
   "cell_type": "code",
   "execution_count": 18,
   "id": "a79ab395",
   "metadata": {
    "ExecuteTime": {
     "end_time": "2021-12-24T15:53:05.806657Z",
     "start_time": "2021-12-24T15:53:05.731495Z"
    },
    "hidden": true
   },
   "outputs": [
    {
     "data": {
      "text/html": [
       "<div>\n",
       "<style scoped>\n",
       "    .dataframe tbody tr th:only-of-type {\n",
       "        vertical-align: middle;\n",
       "    }\n",
       "\n",
       "    .dataframe tbody tr th {\n",
       "        vertical-align: top;\n",
       "    }\n",
       "\n",
       "    .dataframe thead th {\n",
       "        text-align: right;\n",
       "    }\n",
       "</style>\n",
       "<table border=\"1\" class=\"dataframe\">\n",
       "  <thead>\n",
       "    <tr style=\"text-align: right;\">\n",
       "      <th></th>\n",
       "      <th>Survived</th>\n",
       "      <th>Pclass</th>\n",
       "      <th>Sex</th>\n",
       "      <th>Age</th>\n",
       "      <th>SibSp</th>\n",
       "      <th>Parch</th>\n",
       "      <th>Fare</th>\n",
       "      <th>Embarked</th>\n",
       "      <th>TravelAlone</th>\n",
       "    </tr>\n",
       "  </thead>\n",
       "  <tbody>\n",
       "    <tr>\n",
       "      <th>0</th>\n",
       "      <td>0</td>\n",
       "      <td>3</td>\n",
       "      <td>1</td>\n",
       "      <td>22.0</td>\n",
       "      <td>1</td>\n",
       "      <td>0</td>\n",
       "      <td>7.2500</td>\n",
       "      <td>0</td>\n",
       "      <td>0</td>\n",
       "    </tr>\n",
       "    <tr>\n",
       "      <th>1</th>\n",
       "      <td>1</td>\n",
       "      <td>1</td>\n",
       "      <td>0</td>\n",
       "      <td>38.0</td>\n",
       "      <td>1</td>\n",
       "      <td>0</td>\n",
       "      <td>71.2833</td>\n",
       "      <td>1</td>\n",
       "      <td>0</td>\n",
       "    </tr>\n",
       "    <tr>\n",
       "      <th>2</th>\n",
       "      <td>1</td>\n",
       "      <td>3</td>\n",
       "      <td>0</td>\n",
       "      <td>26.0</td>\n",
       "      <td>0</td>\n",
       "      <td>0</td>\n",
       "      <td>7.9250</td>\n",
       "      <td>0</td>\n",
       "      <td>0</td>\n",
       "    </tr>\n",
       "    <tr>\n",
       "      <th>3</th>\n",
       "      <td>1</td>\n",
       "      <td>1</td>\n",
       "      <td>0</td>\n",
       "      <td>35.0</td>\n",
       "      <td>1</td>\n",
       "      <td>0</td>\n",
       "      <td>53.1000</td>\n",
       "      <td>0</td>\n",
       "      <td>0</td>\n",
       "    </tr>\n",
       "    <tr>\n",
       "      <th>4</th>\n",
       "      <td>0</td>\n",
       "      <td>3</td>\n",
       "      <td>1</td>\n",
       "      <td>35.0</td>\n",
       "      <td>0</td>\n",
       "      <td>0</td>\n",
       "      <td>8.0500</td>\n",
       "      <td>0</td>\n",
       "      <td>0</td>\n",
       "    </tr>\n",
       "  </tbody>\n",
       "</table>\n",
       "</div>"
      ],
      "text/plain": [
       "   Survived  Pclass  Sex   Age  SibSp  Parch     Fare  Embarked  TravelAlone\n",
       "0         0       3    1  22.0      1      0   7.2500         0            0\n",
       "1         1       1    0  38.0      1      0  71.2833         1            0\n",
       "2         1       3    0  26.0      0      0   7.9250         0            0\n",
       "3         1       1    0  35.0      1      0  53.1000         0            0\n",
       "4         0       3    1  35.0      0      0   8.0500         0            0"
      ]
     },
     "execution_count": 18,
     "metadata": {},
     "output_type": "execute_result"
    }
   ],
   "source": [
    "train.head()"
   ]
  },
  {
   "cell_type": "code",
   "execution_count": 19,
   "id": "9bba756b",
   "metadata": {
    "ExecuteTime": {
     "end_time": "2021-12-24T15:53:05.863108Z",
     "start_time": "2021-12-24T15:53:05.809615Z"
    },
    "hidden": true
   },
   "outputs": [],
   "source": [
    "from sklearn.preprocessing import StandardScaler\n",
    "SS = StandardScaler()\n",
    "SS_train = SS.fit_transform(X_train)\n",
    "SS_test = SS.fit_transform(X_test)"
   ]
  },
  {
   "cell_type": "code",
   "execution_count": 20,
   "id": "01a235c3",
   "metadata": {
    "ExecuteTime": {
     "end_time": "2021-12-24T15:53:05.920187Z",
     "start_time": "2021-12-24T15:53:05.864626Z"
    },
    "hidden": true
   },
   "outputs": [],
   "source": [
    "model = LinearSVC(C=0.01)\n",
    "model.fit(SS_train, y_train)\n",
    "y_SVM = model.predict(SS_test)"
   ]
  },
  {
   "cell_type": "code",
   "execution_count": 21,
   "id": "ad061c1f",
   "metadata": {
    "ExecuteTime": {
     "end_time": "2021-12-24T15:53:05.983058Z",
     "start_time": "2021-12-24T15:53:05.921488Z"
    },
    "hidden": true
   },
   "outputs": [
    {
     "data": {
      "text/plain": [
       "(418,)"
      ]
     },
     "execution_count": 21,
     "metadata": {},
     "output_type": "execute_result"
    }
   ],
   "source": [
    "y_SVM.shape"
   ]
  },
  {
   "cell_type": "markdown",
   "id": "be9f06d4",
   "metadata": {
    "deletable": false,
    "editable": false,
    "run_control": {
     "frozen": true
    }
   },
   "source": [
    "# Decision Tree"
   ]
  },
  {
   "cell_type": "code",
   "execution_count": 22,
   "id": "13cbdb4b",
   "metadata": {
    "ExecuteTime": {
     "end_time": "2021-12-24T15:53:06.038475Z",
     "start_time": "2021-12-24T15:53:05.988345Z"
    }
   },
   "outputs": [],
   "source": [
    "y_train = y_train.reshape((-1,1))\n",
    "yes = cp(np.count_nonzero(y_train))\n",
    "no = y_train.shape[0] - yes\n",
    "yesno = cp(array([yes,no]) / y_train.shape[0])\n",
    "entropy = - yesno.dot(np.log2(yesno).T)"
   ]
  },
  {
   "cell_type": "code",
   "execution_count": 23,
   "id": "d50bb879",
   "metadata": {
    "ExecuteTime": {
     "end_time": "2021-12-24T15:53:06.117749Z",
     "start_time": "2021-12-24T15:53:06.043693Z"
    },
    "scrolled": true
   },
   "outputs": [
    {
     "data": {
      "text/html": [
       "<div>\n",
       "<style scoped>\n",
       "    .dataframe tbody tr th:only-of-type {\n",
       "        vertical-align: middle;\n",
       "    }\n",
       "\n",
       "    .dataframe tbody tr th {\n",
       "        vertical-align: top;\n",
       "    }\n",
       "\n",
       "    .dataframe thead th {\n",
       "        text-align: right;\n",
       "    }\n",
       "</style>\n",
       "<table border=\"1\" class=\"dataframe\">\n",
       "  <thead>\n",
       "    <tr style=\"text-align: right;\">\n",
       "      <th></th>\n",
       "      <th>Pclass</th>\n",
       "      <th>Sex</th>\n",
       "      <th>Age</th>\n",
       "      <th>SibSp</th>\n",
       "      <th>Parch</th>\n",
       "      <th>Fare</th>\n",
       "      <th>Embarked</th>\n",
       "      <th>TravelAlone</th>\n",
       "    </tr>\n",
       "  </thead>\n",
       "  <tbody>\n",
       "    <tr>\n",
       "      <th>0</th>\n",
       "      <td>3.0</td>\n",
       "      <td>1.0</td>\n",
       "      <td>22.0</td>\n",
       "      <td>1.0</td>\n",
       "      <td>0.0</td>\n",
       "      <td>7.2500</td>\n",
       "      <td>0.0</td>\n",
       "      <td>0.0</td>\n",
       "    </tr>\n",
       "    <tr>\n",
       "      <th>1</th>\n",
       "      <td>1.0</td>\n",
       "      <td>0.0</td>\n",
       "      <td>38.0</td>\n",
       "      <td>1.0</td>\n",
       "      <td>0.0</td>\n",
       "      <td>71.2833</td>\n",
       "      <td>1.0</td>\n",
       "      <td>0.0</td>\n",
       "    </tr>\n",
       "    <tr>\n",
       "      <th>2</th>\n",
       "      <td>3.0</td>\n",
       "      <td>0.0</td>\n",
       "      <td>26.0</td>\n",
       "      <td>0.0</td>\n",
       "      <td>0.0</td>\n",
       "      <td>7.9250</td>\n",
       "      <td>0.0</td>\n",
       "      <td>0.0</td>\n",
       "    </tr>\n",
       "    <tr>\n",
       "      <th>3</th>\n",
       "      <td>1.0</td>\n",
       "      <td>0.0</td>\n",
       "      <td>35.0</td>\n",
       "      <td>1.0</td>\n",
       "      <td>0.0</td>\n",
       "      <td>53.1000</td>\n",
       "      <td>0.0</td>\n",
       "      <td>0.0</td>\n",
       "    </tr>\n",
       "    <tr>\n",
       "      <th>4</th>\n",
       "      <td>3.0</td>\n",
       "      <td>1.0</td>\n",
       "      <td>35.0</td>\n",
       "      <td>0.0</td>\n",
       "      <td>0.0</td>\n",
       "      <td>8.0500</td>\n",
       "      <td>0.0</td>\n",
       "      <td>0.0</td>\n",
       "    </tr>\n",
       "  </tbody>\n",
       "</table>\n",
       "</div>"
      ],
      "text/plain": [
       "   Pclass  Sex   Age  SibSp  Parch     Fare  Embarked  TravelAlone\n",
       "0     3.0  1.0  22.0    1.0    0.0   7.2500       0.0          0.0\n",
       "1     1.0  0.0  38.0    1.0    0.0  71.2833       1.0          0.0\n",
       "2     3.0  0.0  26.0    0.0    0.0   7.9250       0.0          0.0\n",
       "3     1.0  0.0  35.0    1.0    0.0  53.1000       0.0          0.0\n",
       "4     3.0  1.0  35.0    0.0    0.0   8.0500       0.0          0.0"
      ]
     },
     "execution_count": 23,
     "metadata": {},
     "output_type": "execute_result"
    }
   ],
   "source": [
    "train_Pd.head()"
   ]
  },
  {
   "cell_type": "code",
   "execution_count": 24,
   "id": "de6b7e30",
   "metadata": {
    "ExecuteTime": {
     "end_time": "2021-12-24T15:53:06.177741Z",
     "start_time": "2021-12-24T15:53:06.119477Z"
    }
   },
   "outputs": [
    {
     "ename": "SyntaxError",
     "evalue": "invalid syntax (112343430.py, line 1)",
     "output_type": "error",
     "traceback": [
      "\u001b[0;36m  File \u001b[0;32m\"/tmp/ipykernel_139869/112343430.py\"\u001b[0;36m, line \u001b[0;32m1\u001b[0m\n\u001b[0;31m    for i in\u001b[0m\n\u001b[0m            ^\u001b[0m\n\u001b[0;31mSyntaxError\u001b[0m\u001b[0;31m:\u001b[0m invalid syntax\n"
     ]
    }
   ],
   "source": [
    "for i in\n",
    "tempP = cp(array(train_Pd['Sex']))\n",
    "temp0 = np.count_nonzero(tempP)\n",
    "temp1 = np.count_nonzero(tempP==0)\n",
    "total = temp0 + temp1\n",
    "x = np.where(tempP == 0, 1, 0)\n",
    "tempH0 = cp(np.where(tempP == y_train, 1, 0))\n",
    "tempH1 = cp(np.where(x == y_train, 1, 0))\n",
    "tempH0C = np.count_nonzero(tempH0)\n",
    "tempH1C = np.count_nonzero(tempH1)"
   ]
  },
  {
   "cell_type": "code",
   "execution_count": null,
   "id": "e48a7eea",
   "metadata": {
    "ExecuteTime": {
     "end_time": "2021-12-24T15:53:06.181476Z",
     "start_time": "2021-12-24T15:53:06.181460Z"
    }
   },
   "outputs": [],
   "source": [
    "pS0 = temp0 / total\n",
    "pS1 = temp1 / total\n"
   ]
  },
  {
   "cell_type": "markdown",
   "id": "bf5cab4c",
   "metadata": {
    "deletable": false,
    "editable": false,
    "run_control": {
     "frozen": true
    }
   },
   "source": [
    "# Results"
   ]
  },
  {
   "cell_type": "code",
   "execution_count": null,
   "id": "a49a8190",
   "metadata": {
    "ExecuteTime": {
     "end_time": "2021-12-24T15:53:06.182746Z",
     "start_time": "2021-12-24T15:53:06.182732Z"
    },
    "scrolled": true
   },
   "outputs": [],
   "source": [
    "result = pd.DataFrame()\n",
    "result['SVM'] = y_SVM\n",
    "result['Model'] = y_model\n",
    "result['Actual'] = Actual_np.reshape(-1,)\n",
    "print(result['Actual'].value_counts())\n",
    "print('\\n')\n",
    "print(result['Model'].value_counts())\n",
    "print('\\n')\n",
    "print(result['SVM'].value_counts())\n",
    "result.head()"
   ]
  }
 ],
 "metadata": {
  "celltoolbar": "Initialization Cell",
  "kernelspec": {
   "display_name": "Python 3 (ipykernel)",
   "language": "python",
   "name": "python3"
  },
  "language_info": {
   "codemirror_mode": {
    "name": "ipython",
    "version": 3
   },
   "file_extension": ".py",
   "mimetype": "text/x-python",
   "name": "python",
   "nbconvert_exporter": "python",
   "pygments_lexer": "ipython3",
   "version": "3.8.10"
  },
  "varInspector": {
   "cols": {
    "lenName": 16,
    "lenType": 16,
    "lenVar": 40
   },
   "kernels_config": {
    "python": {
     "delete_cmd_postfix": "",
     "delete_cmd_prefix": "del ",
     "library": "var_list.py",
     "varRefreshCmd": "print(var_dic_list())"
    },
    "r": {
     "delete_cmd_postfix": ") ",
     "delete_cmd_prefix": "rm(",
     "library": "var_list.r",
     "varRefreshCmd": "cat(var_dic_list()) "
    }
   },
   "types_to_exclude": [
    "module",
    "function",
    "builtin_function_or_method",
    "instance",
    "_Feature"
   ],
   "window_display": false
  }
 },
 "nbformat": 4,
 "nbformat_minor": 5
}
