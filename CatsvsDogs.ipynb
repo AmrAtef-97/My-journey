{
 "cells": [
  {
   "cell_type": "code",
   "execution_count": 1,
   "id": "38e61913",
   "metadata": {
    "ExecuteTime": {
     "end_time": "2022-02-04T06:48:24.024109Z",
     "start_time": "2022-02-04T06:48:21.130461Z"
    },
    "init_cell": true
   },
   "outputs": [],
   "source": [
    "import tensorflow as tf \n",
    "import numpy as np \n",
    "import os \n",
    "import time\n",
    "import matplotlib.pyplot as plt\n",
    "from keras.models import Sequential, Model,load_model\n",
    "from tensorflow.keras.preprocessing.image import ImageDataGenerator"
   ]
  },
  {
   "cell_type": "code",
   "execution_count": null,
   "id": "4a149fd8",
   "metadata": {
    "ExecuteTime": {
     "end_time": "2022-02-03T16:29:11.454551Z",
     "start_time": "2022-02-03T16:29:11.452463Z"
    },
    "init_cell": true
   },
   "outputs": [],
   "source": [
    "# from numba import cuda \n",
    "# device = cuda.get_current_device()\n",
    "# device.reset()"
   ]
  },
  {
   "cell_type": "code",
   "execution_count": null,
   "id": "ff5ceed4",
   "metadata": {
    "ExecuteTime": {
     "end_time": "2022-02-03T16:29:11.542775Z",
     "start_time": "2022-02-03T16:29:11.455981Z"
    },
    "init_cell": true
   },
   "outputs": [],
   "source": [
    "def Conv_Identity_block(X, filter_num, first=False, Conv=True):\n",
    "    X_skip = X\n",
    "    \n",
    "    \n",
    "    ###1st layer\n",
    "    if Conv and not first:\n",
    "        s = 2\n",
    "    else:\n",
    "        s = 1\n",
    "        \n",
    "    X = tf.keras.layers.Conv2D(filter_num, (1,1), strides=(s, s))(X)\n",
    "    X = tf.keras.layers.BatchNormalization()(X)\n",
    "    X = tf.keras.layers.Activation('relu')(X)\n",
    "    \n",
    "    ###2nd layer\n",
    "    X = tf.keras.layers.Conv2D(filter_num, (3,3), padding='same')(X)\n",
    "    X = tf.keras.layers.BatchNormalization()(X)\n",
    "    X = tf.keras.layers.Activation('relu')(X)\n",
    "    \n",
    "    ###3rd layer\n",
    "    X = tf.keras.layers.Conv2D(filter_num*4, (1,1), activation='relu')(X)\n",
    "    X = tf.keras.layers.BatchNormalization()(X)\n",
    "    \n",
    "    \n",
    "    ###Conv or Identity\n",
    "    if Conv:\n",
    "        X_skip = tf.keras.layers.Conv2D(filter_num*4, (1,1), strides=(s,s), activation='relu')(X_skip)\n",
    "        X_skip = tf.keras.layers.BatchNormalization()(X_skip)\n",
    "\n",
    "        \n",
    "    ###4th layer\n",
    "    \n",
    "    X = tf.keras.layers.Add()([X, X_skip])\n",
    "    X = tf.keras.layers.Activation('relu')(X)\n",
    "    \n",
    "    \n",
    "    return X"
   ]
  },
  {
   "cell_type": "code",
   "execution_count": null,
   "id": "a3369cdd",
   "metadata": {
    "ExecuteTime": {
     "end_time": "2022-02-03T16:29:11.632391Z",
     "start_time": "2022-02-03T16:29:11.544481Z"
    },
    "init_cell": true
   },
   "outputs": [],
   "source": [
    "###ResNet50\n",
    "def ResNet50(input_shape=(224,224,3)):\n",
    "    X_input = tf.keras.layers.Input(input_shape,dtype=np.float16)\n",
    "    X = tf.keras.layers.ZeroPadding2D((3,3))(X_input)\n",
    "    \n",
    "    X = tf.keras.layers.Conv2D(64, (7,7), strides=(2,2))(X)\n",
    "    X = tf.keras.layers.BatchNormalization()(X)\n",
    "    X = tf.keras.layers.Activation('relu')(X)\n",
    "    X = tf.keras.layers.ZeroPadding2D((1,1))(X)\n",
    "    X = tf.keras.layers.MaxPooling2D((3,3), strides=2)(X)\n",
    "    \n",
    "    \n",
    "    \n",
    "    num = [3, 4, 6, 3]\n",
    "    filter_size = 64\n",
    "    First = True\n",
    "    layer_num = 0\n",
    "    \n",
    "    for i in num:\n",
    "        for j in range(i):\n",
    "            if j == 0:\n",
    "                X = Conv_Identity_block(X, filter_size, First)\n",
    "                First = False\n",
    "            else:\n",
    "                X = Conv_Identity_block(X, filter_size, Conv=False)\n",
    "        filter_size *= 2\n",
    "        layer_num += 1\n",
    "    \n",
    "    X = tf.keras.layers.GlobalAveragePooling2D()(X)\n",
    "    X = tf.keras.layers.Flatten()(X)\n",
    "    X = tf.keras.layers.Dense(256, activation='relu')(X)\n",
    "    X = tf.keras.layers.Dense(128, activation='relu')(X)\n",
    "    output_tensor = tf.keras.layers.Dense(2, activation='softmax')(X)\n",
    "    model = Model(inputs=X_input, outputs=output_tensor, name='ResNet50')\n",
    "    \n",
    "    return model"
   ]
  },
  {
   "cell_type": "code",
   "execution_count": null,
   "id": "d571271b",
   "metadata": {
    "ExecuteTime": {
     "end_time": "2022-02-03T16:29:13.229827Z",
     "start_time": "2022-02-03T16:29:11.633595Z"
    },
    "init_cell": true,
    "scrolled": true
   },
   "outputs": [],
   "source": [
    "Base_Model = ResNet50(input_shape=(224,224,3))"
   ]
  },
  {
   "cell_type": "code",
   "execution_count": null,
   "id": "a7abea2a",
   "metadata": {
    "ExecuteTime": {
     "end_time": "2022-02-03T16:29:13.233470Z",
     "start_time": "2022-02-03T16:29:13.231143Z"
    },
    "scrolled": false
   },
   "outputs": [],
   "source": [
    "# Base_Model.summary()"
   ]
  },
  {
   "cell_type": "code",
   "execution_count": 13,
   "id": "9cb95f65",
   "metadata": {
    "ExecuteTime": {
     "end_time": "2022-02-04T06:51:10.202426Z",
     "start_time": "2022-02-04T06:51:09.607329Z"
    },
    "init_cell": true,
    "scrolled": true
   },
   "outputs": [
    {
     "name": "stdout",
     "output_type": "stream",
     "text": [
      "Found 24999 files belonging to 2 classes.\n",
      "Using 22500 files for training.\n"
     ]
    }
   ],
   "source": [
    "ds_train = tf.keras.preprocessing.image_dataset_from_directory(\n",
    "    'train/',\n",
    "    class_names=['cats', 'dogs'],\n",
    "    color_mode='rgb',\n",
    "    batch_size=32,\n",
    "    image_size=(224,224),\n",
    "    shuffle=True,\n",
    "    seed=123,\n",
    "    validation_split=0.1,\n",
    "    subset='training'\n",
    ")"
   ]
  },
  {
   "cell_type": "code",
   "execution_count": 14,
   "id": "7cecd5ab",
   "metadata": {
    "ExecuteTime": {
     "end_time": "2022-02-04T06:51:11.100111Z",
     "start_time": "2022-02-04T06:51:10.534317Z"
    },
    "init_cell": true
   },
   "outputs": [
    {
     "name": "stdout",
     "output_type": "stream",
     "text": [
      "Found 24999 files belonging to 2 classes.\n",
      "Using 2499 files for validation.\n"
     ]
    }
   ],
   "source": [
    "ds_validate = tf.keras.preprocessing.image_dataset_from_directory(\n",
    "    'train/',\n",
    "    class_names=['cats', 'dogs'],\n",
    "    color_mode='rgb',\n",
    "    batch_size=16,\n",
    "    image_size=(224,224),\n",
    "    shuffle=True,\n",
    "    seed=123,\n",
    "    validation_split=0.1,\n",
    "    subset='validation'\n",
    ")"
   ]
  },
  {
   "cell_type": "code",
   "execution_count": null,
   "id": "e64008ab",
   "metadata": {
    "ExecuteTime": {
     "end_time": "2022-02-03T16:29:14.215394Z",
     "start_time": "2022-02-03T16:29:14.153325Z"
    }
   },
   "outputs": [],
   "source": [
    "# train_data = ImageDataGenerator()"
   ]
  },
  {
   "cell_type": "code",
   "execution_count": null,
   "id": "43249fc2",
   "metadata": {
    "ExecuteTime": {
     "end_time": "2022-02-04T00:16:38.008663Z",
     "start_time": "2022-02-04T00:16:37.996187Z"
    }
   },
   "outputs": [],
   "source": [
    "Base_Model.compile(loss=tf.keras.losses.SparseCategoricalCrossentropy(), \n",
    "                   optimizer=tf.keras.optimizers.Adam(),\n",
    "                   metrics=['accuracy'])"
   ]
  },
  {
   "cell_type": "code",
   "execution_count": null,
   "id": "515504a3",
   "metadata": {
    "ExecuteTime": {
     "end_time": "2022-02-03T18:02:30.717961Z",
     "start_time": "2022-02-03T16:29:14.284836Z"
    },
    "scrolled": true
   },
   "outputs": [],
   "source": [
    "Base_Model.fit(ds_train, validation_data=ds_validate, epochs=10)"
   ]
  },
  {
   "cell_type": "markdown",
   "id": "69a83e09",
   "metadata": {
    "deletable": false,
    "editable": false,
    "run_control": {
     "frozen": true
    }
   },
   "source": [
    "# Keras Pre-Trained Model"
   ]
  },
  {
   "cell_type": "code",
   "execution_count": 15,
   "id": "e1c4d347",
   "metadata": {
    "ExecuteTime": {
     "end_time": "2022-02-04T06:51:15.628162Z",
     "start_time": "2022-02-04T06:51:14.302357Z"
    }
   },
   "outputs": [],
   "source": [
    "PreModel = tf.keras.applications.ResNet50(include_top=False, \n",
    "                                          weights='imagenet', input_shape=(224,224,3), \n",
    "                                          classes=1 ,classifier_activation='sigmoid')"
   ]
  },
  {
   "cell_type": "code",
   "execution_count": 16,
   "id": "828b8a41",
   "metadata": {
    "ExecuteTime": {
     "end_time": "2022-02-04T06:51:15.646383Z",
     "start_time": "2022-02-04T06:51:15.639898Z"
    }
   },
   "outputs": [],
   "source": [
    "for layer in PreModel.layers:\n",
    "        layer.trainable=False"
   ]
  },
  {
   "cell_type": "code",
   "execution_count": 17,
   "id": "a21f930c",
   "metadata": {
    "ExecuteTime": {
     "end_time": "2022-02-04T06:51:16.285363Z",
     "start_time": "2022-02-04T06:51:15.656115Z"
    }
   },
   "outputs": [],
   "source": [
    "resnet_model = Sequential()\n",
    "resnet_model.add(PreModel)"
   ]
  },
  {
   "cell_type": "code",
   "execution_count": 18,
   "id": "7c701836",
   "metadata": {
    "ExecuteTime": {
     "end_time": "2022-02-04T06:51:16.319502Z",
     "start_time": "2022-02-04T06:51:16.296388Z"
    },
    "run_control": {
     "marked": false
    }
   },
   "outputs": [],
   "source": [
    "resnet_model.add(tf.keras.layers.Flatten())\n",
    "resnet_model.add(tf.keras.layers.Dense(512, activation='relu'))\n",
    "resnet_model.add(tf.keras.layers.Dense(1, activation='sigmoid'))"
   ]
  },
  {
   "cell_type": "code",
   "execution_count": null,
   "id": "688a6366",
   "metadata": {
    "ExecuteTime": {
     "end_time": "2022-02-04T06:49:08.964418Z",
     "start_time": "2022-02-04T06:49:08.938040Z"
    }
   },
   "outputs": [],
   "source": [
    "resnet_model.summary()"
   ]
  },
  {
   "cell_type": "code",
   "execution_count": 19,
   "id": "c6b21690",
   "metadata": {
    "ExecuteTime": {
     "end_time": "2022-02-04T06:51:18.666113Z",
     "start_time": "2022-02-04T06:51:18.654524Z"
    }
   },
   "outputs": [],
   "source": [
    "resnet_model.compile(loss=tf.keras.losses.BinaryCrossentropy(), \n",
    "                   optimizer=tf.keras.optimizers.Adam(),\n",
    "                   metrics=tf.keras.metrics.Accuracy())"
   ]
  },
  {
   "cell_type": "code",
   "execution_count": null,
   "id": "406a3ed0",
   "metadata": {
    "ExecuteTime": {
     "end_time": "2022-02-04T06:51:52.781680Z",
     "start_time": "2022-02-04T06:51:18.935544Z"
    },
    "scrolled": false
   },
   "outputs": [],
   "source": [
    "resnet_model.fit(ds_train, validation_data=ds_validate, epochs=10)"
   ]
  },
  {
   "cell_type": "code",
   "execution_count": null,
   "id": "500eb1ab",
   "metadata": {},
   "outputs": [],
   "source": []
  }
 ],
 "metadata": {
  "celltoolbar": "Initialization Cell",
  "kernelspec": {
   "display_name": "Python 3 (ipykernel)",
   "language": "python",
   "name": "python3"
  },
  "language_info": {
   "codemirror_mode": {
    "name": "ipython",
    "version": 3
   },
   "file_extension": ".py",
   "mimetype": "text/x-python",
   "name": "python",
   "nbconvert_exporter": "python",
   "pygments_lexer": "ipython3",
   "version": "3.9.7"
  },
  "toc": {
   "base_numbering": 1,
   "nav_menu": {},
   "number_sections": true,
   "sideBar": true,
   "skip_h1_title": false,
   "title_cell": "Table of Contents",
   "title_sidebar": "Contents",
   "toc_cell": false,
   "toc_position": {},
   "toc_section_display": true,
   "toc_window_display": false
  },
  "varInspector": {
   "cols": {
    "lenName": 16,
    "lenType": 16,
    "lenVar": 40
   },
   "kernels_config": {
    "python": {
     "delete_cmd_postfix": "",
     "delete_cmd_prefix": "del ",
     "library": "var_list.py",
     "varRefreshCmd": "print(var_dic_list())"
    },
    "r": {
     "delete_cmd_postfix": ") ",
     "delete_cmd_prefix": "rm(",
     "library": "var_list.r",
     "varRefreshCmd": "cat(var_dic_list()) "
    }
   },
   "types_to_exclude": [
    "module",
    "function",
    "builtin_function_or_method",
    "instance",
    "_Feature"
   ],
   "window_display": false
  }
 },
 "nbformat": 4,
 "nbformat_minor": 5
}
